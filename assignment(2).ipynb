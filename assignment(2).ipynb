{
 "cells": [
  {
   "cell_type": "code",
   "execution_count": 1,
   "id": "7837dda4-22e0-4a3c-8780-b91f960a1b5c",
   "metadata": {},
   "outputs": [],
   "source": [
    "#Using double to define the string\n",
    "my_variable = \"I'm using a single quote\""
   ]
  },
  {
   "cell_type": "code",
   "execution_count": 2,
   "id": "d0113e4b-4045-4541-93ca-9bb4680141b0",
   "metadata": {},
   "outputs": [
    {
     "name": "stdout",
     "output_type": "stream",
     "text": [
      "I'm using a single quote\n"
     ]
    }
   ],
   "source": [
    "print(my_variable) \n",
    "#output: I'm using single quote"
   ]
  },
  {
   "cell_type": "code",
   "execution_count": null,
   "id": "0c538aa5-30a2-45ab-a385-7a0a5f778fec",
   "metadata": {},
   "outputs": [],
   "source": []
  },
  {
   "cell_type": "code",
   "execution_count": 3,
   "id": "bf9bcdf6-8d65-4d36-9985-484f013d1674",
   "metadata": {},
   "outputs": [],
   "source": [
    "x = 'wlecome to python foundation course'"
   ]
  },
  {
   "cell_type": "code",
   "execution_count": 6,
   "id": "9cd47fcc-6ed9-4b42-a553-28a312685271",
   "metadata": {},
   "outputs": [
    {
     "name": "stdout",
     "output_type": "stream",
     "text": [
      "11\n"
     ]
    }
   ],
   "source": [
    "print(x.find('python'))"
   ]
  },
  {
   "cell_type": "code",
   "execution_count": 7,
   "id": "8d10a3b9-073b-4808-b4d2-cca2fd0caa50",
   "metadata": {},
   "outputs": [
    {
     "name": "stdout",
     "output_type": "stream",
     "text": [
      "6\n"
     ]
    }
   ],
   "source": [
    "print(x.count('o'))"
   ]
  },
  {
   "cell_type": "code",
   "execution_count": 8,
   "id": "00673a6e-4201-43db-9ae3-1abf22434fe3",
   "metadata": {},
   "outputs": [
    {
     "name": "stdout",
     "output_type": "stream",
     "text": [
      "35\n"
     ]
    }
   ],
   "source": [
    "print(len(x))"
   ]
  },
  {
   "cell_type": "code",
   "execution_count": 9,
   "id": "633f217d-50a4-4c1b-abbd-37dac527a69b",
   "metadata": {},
   "outputs": [],
   "source": [
    "x = 'welcome to ' "
   ]
  },
  {
   "cell_type": "code",
   "execution_count": 11,
   "id": "31167595-fab9-4fa2-8cf6-29cb8e5537f0",
   "metadata": {},
   "outputs": [],
   "source": [
    "y = 'python foundation course'\n",
    "result = x+y"
   ]
  },
  {
   "cell_type": "code",
   "execution_count": 12,
   "id": "21ae47c1-fb37-4efb-87ad-49e4cc566b31",
   "metadata": {},
   "outputs": [
    {
     "name": "stdout",
     "output_type": "stream",
     "text": [
      "welcome to python foundation course\n"
     ]
    }
   ],
   "source": [
    "print(result)"
   ]
  },
  {
   "cell_type": "code",
   "execution_count": null,
   "id": "de7a38fc-9acb-4414-aea7-dd16ab1afca2",
   "metadata": {},
   "outputs": [],
   "source": []
  },
  {
   "cell_type": "code",
   "execution_count": 29,
   "id": "09983ac8-5ce1-4e54-bb7a-e51b9cc4e911",
   "metadata": {},
   "outputs": [],
   "source": [
    "word = 'PanaJi@12256'"
   ]
  },
  {
   "cell_type": "code",
   "execution_count": 17,
   "id": "6f42d0a6-1caf-455e-87be-ce0399132d2c",
   "metadata": {},
   "outputs": [],
   "source": [
    "# (a) Total number of alphabets in lower case\n",
    "lowercase_count = sum(1 for char in word if char.islower()) "
   ]
  },
  {
   "cell_type": "code",
   "execution_count": 18,
   "id": "2ce7d43a-c051-42a7-b8cf-4e79b34e9de6",
   "metadata": {},
   "outputs": [
    {
     "name": "stdout",
     "output_type": "stream",
     "text": [
      "Total number of lowercasr alphabates: 6\n"
     ]
    }
   ],
   "source": [
    "print(\"Total number of lowercasr alphabates:\", lowercase_count)"
   ]
  },
  {
   "cell_type": "code",
   "execution_count": 20,
   "id": "910f8913-e279-40ea-947d-491644c3e8b2",
   "metadata": {},
   "outputs": [],
   "source": [
    "# (b) Total number of alphabets in uppercase \n",
    "uppercase_count = sum(1 for char in word if char.isupper()) "
   ]
  },
  {
   "cell_type": "code",
   "execution_count": 30,
   "id": "208dd207-170b-4240-9fcf-ed2d5f48ad86",
   "metadata": {},
   "outputs": [
    {
     "name": "stdout",
     "output_type": "stream",
     "text": [
      "Total number of uppercase alphabates: 0\n"
     ]
    }
   ],
   "source": [
    "print(\"Total number of uppercase alphabates:\", uppercase_count)"
   ]
  },
  {
   "cell_type": "code",
   "execution_count": 31,
   "id": "9cecb8ce-06a2-4fae-98ff-54b733d8f121",
   "metadata": {},
   "outputs": [],
   "source": [
    "# (c) Total number of numericals in string\n",
    "numeric_count = sum(1 for char in word if char.isnumeric())"
   ]
  },
  {
   "cell_type": "code",
   "execution_count": 32,
   "id": "954316e6-eda9-4235-825b-06b831858578",
   "metadata": {},
   "outputs": [
    {
     "name": "stdout",
     "output_type": "stream",
     "text": [
      "Total number of numerical characters: 5\n"
     ]
    }
   ],
   "source": [
    "print(\"Total number of numerical characters:\", numeric_count)"
   ]
  },
  {
   "cell_type": "code",
   "execution_count": null,
   "id": "f23737ed-399b-47ce-b318-0a099d9599bb",
   "metadata": {},
   "outputs": [],
   "source": []
  },
  {
   "cell_type": "code",
   "execution_count": 33,
   "id": "13c4b738-da39-403e-ac56-481ee90de5ea",
   "metadata": {},
   "outputs": [
    {
     "ename": "SyntaxError",
     "evalue": "invalid decimal literal (1981750331.py, line 1)",
     "output_type": "error",
     "traceback": [
      "\u001b[0;36m  Cell \u001b[0;32mIn[33], line 1\u001b[0;36m\u001b[0m\n\u001b[0;31m    Wr1te a co e to store a numer1cal value 1ns1 e a var1able then convert 1t 1nto str1ngQ\u001b[0m\n\u001b[0m                                            ^\u001b[0m\n\u001b[0;31mSyntaxError\u001b[0m\u001b[0;31m:\u001b[0m invalid decimal literal\n"
     ]
    }
   ],
   "source": [
    "Wr1te a co e to store a numer1cal value 1ns1 e a var1able then convert 1t 1nto str1ngQ"
   ]
  },
  {
   "cell_type": "code",
   "execution_count": null,
   "id": "059813d5-5836-4cae-aedc-9b3c67c7ff8e",
   "metadata": {},
   "outputs": [],
   "source": []
  }
 ],
 "metadata": {
  "kernelspec": {
   "display_name": "Python 3 (ipykernel)",
   "language": "python",
   "name": "python3"
  },
  "language_info": {
   "codemirror_mode": {
    "name": "ipython",
    "version": 3
   },
   "file_extension": ".py",
   "mimetype": "text/x-python",
   "name": "python",
   "nbconvert_exporter": "python",
   "pygments_lexer": "ipython3",
   "version": "3.10.8"
  }
 },
 "nbformat": 4,
 "nbformat_minor": 5
}
